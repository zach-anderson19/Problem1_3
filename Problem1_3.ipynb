{
  "nbformat": 4,
  "nbformat_minor": 0,
  "metadata": {
    "colab": {
      "provenance": [],
      "authorship_tag": "ABX9TyMevbzH7//MKlRI5ygGjRRZ",
      "include_colab_link": true
    },
    "kernelspec": {
      "name": "python3",
      "display_name": "Python 3"
    },
    "language_info": {
      "name": "python"
    }
  },
  "cells": [
    {
      "cell_type": "markdown",
      "metadata": {
        "id": "view-in-github",
        "colab_type": "text"
      },
      "source": [
        "<a href=\"https://colab.research.google.com/github/zach-anderson19/Problem1_3/blob/main/Problem1_3.ipynb\" target=\"_parent\"><img src=\"https://colab.research.google.com/assets/colab-badge.svg\" alt=\"Open In Colab\"/></a>"
      ]
    },
    {
      "cell_type": "code",
      "execution_count": null,
      "metadata": {
        "colab": {
          "base_uri": "https://localhost:8080/"
        },
        "id": "AU9mQ1gXZFAw",
        "outputId": "dfc92fcc-7964-4c9c-ef5d-00131164c783"
      },
      "outputs": [
        {
          "output_type": "stream",
          "name": "stdout",
          "text": [
            "Longest substring in alphabetical order is: abc\n"
          ]
        }
      ],
      "source": [
        "#coding problem 1.3\n",
        "\n",
        "#s = 'azcbobobegghakl'\n",
        "s = 'abcbcd'\n",
        "\n",
        "maxLength = 0\n",
        "current = s[0]\n",
        "longest = s[0]\n",
        "\n",
        "#checking alphabetical order\n",
        "for i in range(len(s) - 1):\n",
        "  if s[i + 1] >= s[i]:\n",
        "    current += s[i + 1]\n",
        "\n",
        "    #updating longest substring\n",
        "    if len(current) > maxLength:\n",
        "      maxLength = len(current)\n",
        "      longest = current\n",
        "\n",
        "  #reset\n",
        "  else:\n",
        "      current = s[i + 1]\n",
        "\n",
        "      i += 1\n",
        "\n",
        "print('Longest substring in alphabetical order is: ' + longest)"
      ]
    }
  ]
}